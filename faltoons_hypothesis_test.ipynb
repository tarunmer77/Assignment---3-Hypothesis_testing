{
 "cells": [
  {
   "cell_type": "code",
   "execution_count": 1,
   "id": "30a7ccd4",
   "metadata": {},
   "outputs": [],
   "source": [
    "import pandas as pd\n",
    "import numpy as np"
   ]
  },
  {
   "cell_type": "code",
   "execution_count": 2,
   "id": "e0e18cda",
   "metadata": {},
   "outputs": [
    {
     "name": "stdout",
     "output_type": "stream",
     "text": [
      " Volume in drive T is data_science\n",
      " Volume Serial Number is 109B-7FEF\n",
      "\n",
      " Directory of T:\\EXCELRR\\ASSIGNMENTS___EXCELR\\3._Hypothesis_Testing\n",
      "\n",
      "11/09/2021  11:32 AM    <DIR>          .\n",
      "11/09/2021  11:32 AM    <DIR>          ..\n",
      "11/09/2021  11:25 AM    <DIR>          .ipynb_checkpoints\n",
      "01/29/2021  09:23 AM                87 BuyerRatio.csv\n",
      "11/09/2021  11:22 AM             7,951 BuyerRatio_hypothesis_test.ipynb\n",
      "01/29/2021  09:23 AM            13,423 Costomer+OrderForm.csv\n",
      "11/09/2021  11:31 AM             9,970 Customer_hypothesis_test.ipynb\n",
      "01/29/2021  09:23 AM               525 Cutlets.csv\n",
      "11/09/2021  11:02 AM             6,174 cutlets_hypothesis_test.ipynb\n",
      "01/29/2021  09:23 AM             5,458 Faltoons.csv\n",
      "11/09/2021  11:32 AM                72 faltoons_hypothesis_test.ipynb\n",
      "01/29/2021  09:23 AM            65,558 Hypothesis_Testing_Assignment.pptx\n",
      "01/29/2021  09:23 AM             3,487 LabTAT.csv\n",
      "11/09/2021  11:14 AM             7,085 minitab_hypothesis_test.ipynb\n",
      "              11 File(s)        119,790 bytes\n",
      "               3 Dir(s)   7,488,745,472 bytes free\n"
     ]
    }
   ],
   "source": [
    "ls"
   ]
  },
  {
   "cell_type": "code",
   "execution_count": 3,
   "id": "db4571c0",
   "metadata": {},
   "outputs": [],
   "source": [
    "df = pd.read_csv(\"Faltoons.csv\")"
   ]
  },
  {
   "cell_type": "code",
   "execution_count": 4,
   "id": "b3d11d9a",
   "metadata": {},
   "outputs": [
    {
     "data": {
      "text/html": [
       "<div>\n",
       "<style scoped>\n",
       "    .dataframe tbody tr th:only-of-type {\n",
       "        vertical-align: middle;\n",
       "    }\n",
       "\n",
       "    .dataframe tbody tr th {\n",
       "        vertical-align: top;\n",
       "    }\n",
       "\n",
       "    .dataframe thead th {\n",
       "        text-align: right;\n",
       "    }\n",
       "</style>\n",
       "<table border=\"1\" class=\"dataframe\">\n",
       "  <thead>\n",
       "    <tr style=\"text-align: right;\">\n",
       "      <th></th>\n",
       "      <th>Weekdays</th>\n",
       "      <th>Weekend</th>\n",
       "    </tr>\n",
       "  </thead>\n",
       "  <tbody>\n",
       "    <tr>\n",
       "      <th>0</th>\n",
       "      <td>Male</td>\n",
       "      <td>Female</td>\n",
       "    </tr>\n",
       "    <tr>\n",
       "      <th>1</th>\n",
       "      <td>Female</td>\n",
       "      <td>Male</td>\n",
       "    </tr>\n",
       "    <tr>\n",
       "      <th>2</th>\n",
       "      <td>Female</td>\n",
       "      <td>Male</td>\n",
       "    </tr>\n",
       "    <tr>\n",
       "      <th>3</th>\n",
       "      <td>Male</td>\n",
       "      <td>Female</td>\n",
       "    </tr>\n",
       "    <tr>\n",
       "      <th>4</th>\n",
       "      <td>Female</td>\n",
       "      <td>Female</td>\n",
       "    </tr>\n",
       "  </tbody>\n",
       "</table>\n",
       "</div>"
      ],
      "text/plain": [
       "  Weekdays Weekend\n",
       "0     Male  Female\n",
       "1   Female    Male\n",
       "2   Female    Male\n",
       "3     Male  Female\n",
       "4   Female  Female"
      ]
     },
     "execution_count": 4,
     "metadata": {},
     "output_type": "execute_result"
    }
   ],
   "source": [
    "df.head()"
   ]
  },
  {
   "cell_type": "code",
   "execution_count": 5,
   "id": "ca9f6e2f",
   "metadata": {},
   "outputs": [],
   "source": [
    "# Null Hypothesis : percentage of males vs females walking in to the store does not differ based on day of the week\n",
    "# Alternate Hypothesis: percentage of males vs females walking in to the store differ based on day of the week"
   ]
  },
  {
   "cell_type": "code",
   "execution_count": 6,
   "id": "06433eec",
   "metadata": {},
   "outputs": [],
   "source": [
    "#applying chi-square test"
   ]
  },
  {
   "cell_type": "code",
   "execution_count": 7,
   "id": "6151ec05",
   "metadata": {},
   "outputs": [
    {
     "data": {
      "text/plain": [
       "Index(['Weekdays', 'Weekend'], dtype='object')"
      ]
     },
     "execution_count": 7,
     "metadata": {},
     "output_type": "execute_result"
    }
   ],
   "source": [
    "df.columns"
   ]
  },
  {
   "cell_type": "code",
   "execution_count": 8,
   "id": "4d4d1c21",
   "metadata": {},
   "outputs": [
    {
     "data": {
      "text/plain": [
       "Female    287\n",
       "Male      113\n",
       "Name: Weekdays, dtype: int64"
      ]
     },
     "execution_count": 8,
     "metadata": {},
     "output_type": "execute_result"
    }
   ],
   "source": [
    "df.Weekdays.value_counts()"
   ]
  },
  {
   "cell_type": "code",
   "execution_count": 9,
   "id": "fdf8fefd",
   "metadata": {},
   "outputs": [
    {
     "data": {
      "text/plain": [
       "Female    233\n",
       "Male      167\n",
       "Name: Weekend, dtype: int64"
      ]
     },
     "execution_count": 9,
     "metadata": {},
     "output_type": "execute_result"
    }
   ],
   "source": [
    "df.Weekend.value_counts()"
   ]
  },
  {
   "cell_type": "code",
   "execution_count": 10,
   "id": "86111a01",
   "metadata": {},
   "outputs": [],
   "source": [
    "observation = np.array([[287,233],[113,167]])"
   ]
  },
  {
   "cell_type": "code",
   "execution_count": 11,
   "id": "b6404035",
   "metadata": {},
   "outputs": [
    {
     "data": {
      "text/plain": [
       "array([[287, 233],\n",
       "       [113, 167]])"
      ]
     },
     "execution_count": 11,
     "metadata": {},
     "output_type": "execute_result"
    }
   ],
   "source": [
    "observation"
   ]
  },
  {
   "cell_type": "code",
   "execution_count": 12,
   "id": "3cb8b2b9",
   "metadata": {},
   "outputs": [],
   "source": [
    "from scipy import stats\n",
    "from scipy.stats import norm\n",
    "from scipy.stats import chi2_contingency"
   ]
  },
  {
   "cell_type": "code",
   "execution_count": 13,
   "id": "402f97f9",
   "metadata": {},
   "outputs": [
    {
     "data": {
      "text/plain": [
       "(15.434065934065934,\n",
       " 8.54342267020237e-05,\n",
       " 1,\n",
       " array([[260., 260.],\n",
       "        [140., 140.]]))"
      ]
     },
     "execution_count": 13,
     "metadata": {},
     "output_type": "execute_result"
    }
   ],
   "source": [
    "chi2_contingency(observation)"
   ]
  },
  {
   "cell_type": "code",
   "execution_count": 14,
   "id": "5c362289",
   "metadata": {},
   "outputs": [],
   "source": [
    "# pvalue = 8.54 e-05 "
   ]
  },
  {
   "cell_type": "code",
   "execution_count": 15,
   "id": "2d7afff7",
   "metadata": {},
   "outputs": [],
   "source": [
    "# as pvalue is low so we reject null hypothesis\n",
    "# therefore percentage of males vs females walking in to the store differ based on day of the week"
   ]
  },
  {
   "cell_type": "code",
   "execution_count": null,
   "id": "d0aa3b16",
   "metadata": {},
   "outputs": [],
   "source": []
  }
 ],
 "metadata": {
  "kernelspec": {
   "display_name": "Python 3",
   "language": "python",
   "name": "python3"
  },
  "language_info": {
   "codemirror_mode": {
    "name": "ipython",
    "version": 3
   },
   "file_extension": ".py",
   "mimetype": "text/x-python",
   "name": "python",
   "nbconvert_exporter": "python",
   "pygments_lexer": "ipython3",
   "version": "3.8.8"
  }
 },
 "nbformat": 4,
 "nbformat_minor": 5
}
