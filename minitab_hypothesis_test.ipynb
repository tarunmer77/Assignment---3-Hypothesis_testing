{
 "cells": [
  {
   "cell_type": "code",
   "execution_count": 1,
   "id": "5da01000",
   "metadata": {},
   "outputs": [],
   "source": [
    "import pandas as pd\n",
    "import numpy as np"
   ]
  },
  {
   "cell_type": "code",
   "execution_count": 2,
   "id": "7b3b5912",
   "metadata": {},
   "outputs": [
    {
     "name": "stdout",
     "output_type": "stream",
     "text": [
      " Volume in drive T is data_science\n",
      " Volume Serial Number is 109B-7FEF\n",
      "\n",
      " Directory of T:\\EXCELRR\\ASSIGNMENTS___EXCELR\\3._Hypothesis_Testing\n",
      "\n",
      "11/09/2021  11:03 AM    <DIR>          .\n",
      "11/09/2021  11:03 AM    <DIR>          ..\n",
      "11/09/2021  10:55 AM    <DIR>          .ipynb_checkpoints\n",
      "01/29/2021  09:23 AM                87 BuyerRatio.csv\n",
      "01/29/2021  09:23 AM            13,423 Costomer+OrderForm.csv\n",
      "01/29/2021  09:23 AM               525 Cutlets.csv\n",
      "11/09/2021  11:02 AM             6,174 cutlets_hypothesis_test.ipynb\n",
      "01/29/2021  09:23 AM             5,458 Faltoons.csv\n",
      "01/29/2021  09:23 AM            65,558 Hypothesis_Testing_Assignment.pptx\n",
      "01/29/2021  09:23 AM             3,487 LabTAT.csv\n",
      "11/09/2021  11:03 AM                72 minitab_hypothesis_test.ipynb\n",
      "               8 File(s)         94,784 bytes\n",
      "               3 Dir(s)   7,488,806,912 bytes free\n"
     ]
    }
   ],
   "source": [
    "ls"
   ]
  },
  {
   "cell_type": "code",
   "execution_count": 3,
   "id": "aa3c3432",
   "metadata": {},
   "outputs": [],
   "source": [
    "df = pd.read_csv(\"LabTAT.csv\")"
   ]
  },
  {
   "cell_type": "code",
   "execution_count": 4,
   "id": "764b9494",
   "metadata": {},
   "outputs": [
    {
     "data": {
      "text/html": [
       "<div>\n",
       "<style scoped>\n",
       "    .dataframe tbody tr th:only-of-type {\n",
       "        vertical-align: middle;\n",
       "    }\n",
       "\n",
       "    .dataframe tbody tr th {\n",
       "        vertical-align: top;\n",
       "    }\n",
       "\n",
       "    .dataframe thead th {\n",
       "        text-align: right;\n",
       "    }\n",
       "</style>\n",
       "<table border=\"1\" class=\"dataframe\">\n",
       "  <thead>\n",
       "    <tr style=\"text-align: right;\">\n",
       "      <th></th>\n",
       "      <th>Laboratory 1</th>\n",
       "      <th>Laboratory 2</th>\n",
       "      <th>Laboratory 3</th>\n",
       "      <th>Laboratory 4</th>\n",
       "    </tr>\n",
       "  </thead>\n",
       "  <tbody>\n",
       "    <tr>\n",
       "      <th>0</th>\n",
       "      <td>185.35</td>\n",
       "      <td>165.53</td>\n",
       "      <td>176.70</td>\n",
       "      <td>166.13</td>\n",
       "    </tr>\n",
       "    <tr>\n",
       "      <th>1</th>\n",
       "      <td>170.49</td>\n",
       "      <td>185.91</td>\n",
       "      <td>198.45</td>\n",
       "      <td>160.79</td>\n",
       "    </tr>\n",
       "    <tr>\n",
       "      <th>2</th>\n",
       "      <td>192.77</td>\n",
       "      <td>194.92</td>\n",
       "      <td>201.23</td>\n",
       "      <td>185.18</td>\n",
       "    </tr>\n",
       "    <tr>\n",
       "      <th>3</th>\n",
       "      <td>177.33</td>\n",
       "      <td>183.00</td>\n",
       "      <td>199.61</td>\n",
       "      <td>176.42</td>\n",
       "    </tr>\n",
       "    <tr>\n",
       "      <th>4</th>\n",
       "      <td>193.41</td>\n",
       "      <td>169.57</td>\n",
       "      <td>204.63</td>\n",
       "      <td>152.60</td>\n",
       "    </tr>\n",
       "  </tbody>\n",
       "</table>\n",
       "</div>"
      ],
      "text/plain": [
       "   Laboratory 1  Laboratory 2  Laboratory 3  Laboratory 4\n",
       "0        185.35        165.53        176.70        166.13\n",
       "1        170.49        185.91        198.45        160.79\n",
       "2        192.77        194.92        201.23        185.18\n",
       "3        177.33        183.00        199.61        176.42\n",
       "4        193.41        169.57        204.63        152.60"
      ]
     },
     "execution_count": 4,
     "metadata": {},
     "output_type": "execute_result"
    }
   ],
   "source": [
    "df.head()"
   ]
  },
  {
   "cell_type": "code",
   "execution_count": 5,
   "id": "06109edc",
   "metadata": {},
   "outputs": [],
   "source": [
    "#here we are applying Anova ftest"
   ]
  },
  {
   "cell_type": "code",
   "execution_count": 6,
   "id": "9cd6f578",
   "metadata": {},
   "outputs": [],
   "source": [
    "# Taking Null Hypothesis : No Variance\n",
    "# Alternate Hypothesis : With variance"
   ]
  },
  {
   "cell_type": "code",
   "execution_count": 7,
   "id": "e9a8e310",
   "metadata": {},
   "outputs": [],
   "source": [
    "from scipy import stats\n",
    "from scipy.stats import norm"
   ]
  },
  {
   "cell_type": "code",
   "execution_count": 8,
   "id": "85ba81d1",
   "metadata": {},
   "outputs": [],
   "source": [
    "lab1 = df.iloc[:,0]\n",
    "lab2 = df.iloc[:,1]\n",
    "lab3 = df.iloc[:,2]\n",
    "lab4 = df.iloc[:,3]\n"
   ]
  },
  {
   "cell_type": "code",
   "execution_count": 9,
   "id": "abf13271",
   "metadata": {},
   "outputs": [],
   "source": [
    "pvalue = stats.f_oneway(lab1,lab2,lab3,lab4)"
   ]
  },
  {
   "cell_type": "code",
   "execution_count": 10,
   "id": "33cca56d",
   "metadata": {},
   "outputs": [
    {
     "data": {
      "text/plain": [
       "F_onewayResult(statistic=118.70421654401437, pvalue=2.1156708949992414e-57)"
      ]
     },
     "execution_count": 10,
     "metadata": {},
     "output_type": "execute_result"
    }
   ],
   "source": [
    "pvalue"
   ]
  },
  {
   "cell_type": "code",
   "execution_count": 13,
   "id": "539b0f35",
   "metadata": {},
   "outputs": [
    {
     "data": {
      "text/plain": [
       "2.1156708949992414e-57"
      ]
     },
     "execution_count": 13,
     "metadata": {},
     "output_type": "execute_result"
    }
   ],
   "source": [
    "pvalue[1]"
   ]
  },
  {
   "cell_type": "code",
   "execution_count": 14,
   "id": "d142cde0",
   "metadata": {},
   "outputs": [],
   "source": [
    "#as p is low so we failed to accept null hypothesis"
   ]
  },
  {
   "cell_type": "code",
   "execution_count": 17,
   "id": "288cc8bc",
   "metadata": {},
   "outputs": [],
   "source": [
    "#so there is difference in average TAT among the different laboratories at 5% significance level."
   ]
  },
  {
   "cell_type": "code",
   "execution_count": null,
   "id": "1a94944e",
   "metadata": {},
   "outputs": [],
   "source": []
  }
 ],
 "metadata": {
  "kernelspec": {
   "display_name": "Python 3",
   "language": "python",
   "name": "python3"
  },
  "language_info": {
   "codemirror_mode": {
    "name": "ipython",
    "version": 3
   },
   "file_extension": ".py",
   "mimetype": "text/x-python",
   "name": "python",
   "nbconvert_exporter": "python",
   "pygments_lexer": "ipython3",
   "version": "3.8.8"
  }
 },
 "nbformat": 4,
 "nbformat_minor": 5
}
